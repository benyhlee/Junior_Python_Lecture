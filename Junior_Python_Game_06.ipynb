{
 "cells": [
  {
   "cell_type": "markdown",
   "id": "3d1884f9",
   "metadata": {},
   "source": [
    "# 도형 그리기 복습"
   ]
  },
  {
   "cell_type": "code",
   "execution_count": 6,
   "id": "c8591cb7",
   "metadata": {},
   "outputs": [],
   "source": [
    "# 사각형, 호 그리기\n",
    "from tkinter import *\n",
    "\n",
    "win = Tk()\n",
    "win.geometry(\"600x600\")\n",
    "\n",
    "cvs = Canvas(win, width=600, height=600, highlightthickness=0)\n",
    "cvs.pack()\n",
    "\n",
    "rec = cvs.create_rectangle(0,0,600,300,fill=\"lightblue\", outline=\"lightblue\")\n",
    "\n",
    "arc = cvs.create_arc(200,450,400,650,fill=\"beige\",extent=180,width=5)\n",
    "\n",
    "win.mainloop()"
   ]
  },
  {
   "cell_type": "code",
   "execution_count": 8,
   "id": "3143e1cc",
   "metadata": {},
   "outputs": [],
   "source": [
    "# 캔버스에 이미지 넣기\n",
    "from tkinter import *\n",
    "from PIL import Image, ImageTk\n",
    "\n",
    "win = Tk()\n",
    "win.geometry(\"600x600\")\n",
    "\n",
    "cvs = Canvas(win, width=600, height=600, highlightthickness=0)\n",
    "cvs.pack()\n",
    "\n",
    "rec = cvs.create_rectangle(0,0,600,300,fill=\"lightblue\", outline=\"lightblue\")\n",
    "\n",
    "arc = cvs.create_arc(200,450,400,650,fill=\"beige\",extent=180,width=5)\n",
    "\n",
    "img = Image.open('fly_small.jpg')\n",
    "img = ImageTk.PhotoImage(img)\n",
    "fly = cvs.create_image(300,150,image=img)\n",
    "\n",
    "win.mainloop()"
   ]
  },
  {
   "cell_type": "markdown",
   "id": "1ac45450",
   "metadata": {},
   "source": [
    "# 게임 배경 그리기"
   ]
  },
  {
   "cell_type": "code",
   "execution_count": 3,
   "id": "34794ad9",
   "metadata": {},
   "outputs": [],
   "source": [
    "### 배경, 대포 그리기\n",
    "from tkinter import *\n",
    "import numpy as np\n",
    "\n",
    "win = Tk()\n",
    "win_w, win_h = 1200, 700\n",
    "win.geometry(f\"{win_w}x{win_h}\")\n",
    "\n",
    "cvs = Canvas(win,width=win_w,height=win_h,bg=\"white\",highlightthickness=0)\n",
    "cvs.pack()\n",
    "\n",
    "\n",
    "# 높이 값\n",
    "bottom_h = round(win_h/6)\n",
    "ground_h = round(bottom_h/2)\n",
    "h = bottom_h + ground_h\n",
    "\n",
    "# 바닥\n",
    "bottom = cvs.create_rectangle(0,win_h-bottom_h, win_w,win_h, fill=\"#bfbfbf\", outline=bottom_c)\n",
    "\n",
    "# 하늘\n",
    "sky = cvs.create_rectangle(0,0, win_w,win_h-h, fill=\"#b3e6ff\", outline=sky_c)\n",
    "\n",
    "# 산\n",
    "p_mount = (400,win_h-h),(500,win_h-h-70),(550,win_h-h-30),(650,win_h-h-150),(730,win_h-h-40),(780,win_h-h-80),(880,win_h-h),(400,win_h-h)\n",
    "mount = cvs.create_polygon(p_mount,fill=\"#40bf40\",outline=mount_c)\n",
    "\n",
    "# 대포\n",
    "angle_min = 10*np.pi/180\n",
    "angle_max = 85*np.pi/180\n",
    "angle = 45*np.pi/180\n",
    "barrel = cvs.create_line(50,win_h-h, 50+round(130*np.cos(angle)),win_h-h-round(130*np.sin(angle)),\n",
    "                        fill=\"#404040\",width=30)\n",
    "arc1 = cvs.create_arc(0, win_h-h-50, 100, win_h-h+50, fill=\"#808080\", extent=180)\n",
    "arc2 = cvs.create_arc(30, win_h-h-20, 70, win_h-h+20, fill=\"#404040\", extent=180)\n",
    "\n",
    "# 땅\n",
    "ground = cvs.create_rectangle(0,win_h-h, win_w,win_h-bottom_h, fill=\"#b33c00\", outline=ground_c)\n",
    "\n",
    "win.mainloop()"
   ]
  }
 ],
 "metadata": {
  "kernelspec": {
   "display_name": "py36gpu",
   "language": "python",
   "name": "py36gpu"
  },
  "language_info": {
   "codemirror_mode": {
    "name": "ipython",
    "version": 3
   },
   "file_extension": ".py",
   "mimetype": "text/x-python",
   "name": "python",
   "nbconvert_exporter": "python",
   "pygments_lexer": "ipython3",
   "version": "3.6.13"
  },
  "toc": {
   "base_numbering": 1,
   "nav_menu": {},
   "number_sections": true,
   "sideBar": true,
   "skip_h1_title": false,
   "title_cell": "Table of Contents",
   "title_sidebar": "Contents",
   "toc_cell": false,
   "toc_position": {},
   "toc_section_display": true,
   "toc_window_display": false
  }
 },
 "nbformat": 4,
 "nbformat_minor": 5
}
